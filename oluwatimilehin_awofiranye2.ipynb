{
 "cells": [
  {
   "cell_type": "markdown",
   "id": "e9d68434-da52-4bbd-a7c3-9b02a9b41dec",
   "metadata": {},
   "source": [
    "# Project: Which Headline Works Better? A/B Testing with Real API Data\n",
    "\n",
    "## Project Brief:\n",
    "As a data analyst for a media platform, your task is to evaluate which article headlines and post timings perform better in terms of engagement. This is done by simulating an A/B test using real-world article data pulled from public news APIs.\n",
    "\n",
    "## Objectives:\n",
    "- **Data Acquisition**: Retrieve articles using a public news API such as NewsAPI, The Guardian API, or Mediastack.\n",
    "- **Simulate A/B Testing**:\n",
    "  - Group A: Articles published in the morning (6 AM–12 PM)\n",
    "  - Group B: Articles published in the evening (6 PM–12 AM)\n",
    "- **Data Cleaning & Exploration**: Inspect and preprocess the data (handle missing values, explore metadata).\n",
    "- **Analysis**: Use `groupby`, aggregation, and statistical tests to compare the groups.\n",
    "- **A/B Testing**: Perform statistical analysis (`ttest_ind`) and visualize the results.\n",
    "- **Deliver Insights**: Recommend which group performs better and interpret findings, accounting for outliers or missing data.\n",
    "\n",
    "## Tools Used:\n",
    "- Python\n",
    "- Libraries: `pandas`, `numpy`, `matplotlib`, `scipy`, `requests`\n",
    "\n",
    "## Final Deliverable:\n",
    "A well-structured notebook documenting the entire workflow, analysis, and insights, accompanied by visualizations and conclusions."
   ]
  },
  {
   "cell_type": "markdown",
   "id": "1f3f8273-bb6e-48a3-9be2-23d25b56d097",
   "metadata": {},
   "source": [
    "### Project Brief\n",
    "\n",
    "\n",
    "- To experiment article headlines and post timings.\n",
    "- Split data into two lables for test simulation.\n",
    "- To simulate an A|B test using real-world data pulled from news API\n",
    "- Analyze engagement trends."
   ]
  },
  {
   "cell_type": "code",
   "execution_count": 1,
   "id": "f45a884f-814d-4ab2-9207-67561eaff3d9",
   "metadata": {},
   "outputs": [],
   "source": [
    "# import necessary libraries\n",
    "\n",
    "import pyforest\n",
    "import warnings\n",
    "import requests\n",
    "warnings.filterwarnings('ignore')"
   ]
  },
  {
   "cell_type": "code",
   "execution_count": 3,
   "id": "88fdb10e-7200-473f-b3a2-2b60e1a75ebf",
   "metadata": {},
   "outputs": [],
   "source": [
    "# Accessing data from news API with API key\n",
    "\n",
    "API_KEY = \"e61eea6decb64e8288584440a6911c3d\"\n",
    "url = \"https://newsapi.org/v2/top-headlines\"\n",
    "params = {\n",
    "    'country': 'us',  # You can change to 'gb', 'ng', etc.\n",
    "    'pageSize': 100,  # Max articles per request\n",
    "    'apiKey': API_KEY\n",
    "}\n",
    "\n",
    "response = requests.get(url, params=params)\n",
    "data = response.json()"
   ]
  },
  {
   "cell_type": "code",
   "execution_count": 4,
   "id": "42775f26-af6f-4ca9-8604-21f2baf281d7",
   "metadata": {},
   "outputs": [
    {
     "data": {
      "application/javascript": [
       "\n",
       "        if (window._pyforest_update_imports_cell) { window._pyforest_update_imports_cell('import pandas as pd'); }\n",
       "    "
      ],
      "text/plain": [
       "<IPython.core.display.Javascript object>"
      ]
     },
     "metadata": {},
     "output_type": "display_data"
    },
    {
     "data": {
      "text/html": [
       "<div>\n",
       "<style scoped>\n",
       "    .dataframe tbody tr th:only-of-type {\n",
       "        vertical-align: middle;\n",
       "    }\n",
       "\n",
       "    .dataframe tbody tr th {\n",
       "        vertical-align: top;\n",
       "    }\n",
       "\n",
       "    .dataframe thead th {\n",
       "        text-align: right;\n",
       "    }\n",
       "</style>\n",
       "<table border=\"1\" class=\"dataframe\">\n",
       "  <thead>\n",
       "    <tr style=\"text-align: right;\">\n",
       "      <th></th>\n",
       "      <th>source</th>\n",
       "      <th>author</th>\n",
       "      <th>title</th>\n",
       "      <th>description</th>\n",
       "      <th>url</th>\n",
       "      <th>urlToImage</th>\n",
       "      <th>publishedAt</th>\n",
       "      <th>content</th>\n",
       "    </tr>\n",
       "  </thead>\n",
       "  <tbody>\n",
       "    <tr>\n",
       "      <th>0</th>\n",
       "      <td>{'id': None, 'name': 'Earth.com'}</td>\n",
       "      <td>None</td>\n",
       "      <td>Simple blood test detects cancer up to 3 years...</td>\n",
       "      <td>Discover the innovation behind the cancer test...</td>\n",
       "      <td>https://www.earth.com/news/simple-blood-test-d...</td>\n",
       "      <td>https://cff2.earth.com/uploads/2025/06/1104141...</td>\n",
       "      <td>2025-06-13T17:59:46Z</td>\n",
       "      <td>Some cancers slip under the radar and remain u...</td>\n",
       "    </tr>\n",
       "    <tr>\n",
       "      <th>1</th>\n",
       "      <td>{'id': None, 'name': 'NBCSports.com'}</td>\n",
       "      <td>Mike Florio</td>\n",
       "      <td>There’s a simple solution to the Shemar Stewar...</td>\n",
       "      <td>To get what they want, the Bengals need to giv...</td>\n",
       "      <td>https://www.nbcsports.com/nfl/profootballtalk/...</td>\n",
       "      <td>https://nbcsports.brightspotcdn.com/dims4/defa...</td>\n",
       "      <td>2025-06-13T17:45:18Z</td>\n",
       "      <td>The Bengals and defensive end Shemar Stewart h...</td>\n",
       "    </tr>\n",
       "    <tr>\n",
       "      <th>2</th>\n",
       "      <td>{'id': 'abc-news', 'name': 'ABC News'}</td>\n",
       "      <td>ABC News</td>\n",
       "      <td>Appeals court rejects Trump's bid to challenge...</td>\n",
       "      <td>None</td>\n",
       "      <td>https://abcnews.go.com/US/appeals-court-hear-t...</td>\n",
       "      <td>None</td>\n",
       "      <td>2025-06-13T17:31:17Z</td>\n",
       "      <td>None</td>\n",
       "    </tr>\n",
       "    <tr>\n",
       "      <th>3</th>\n",
       "      <td>{'id': None, 'name': '9to5Mac'}</td>\n",
       "      <td>Ryan Christoffel</td>\n",
       "      <td>Apple releases new iOS 26 beta 1 build to deve...</td>\n",
       "      <td>Apple has released a new build of iOS 26 beta ...</td>\n",
       "      <td>https://9to5mac.com/2025/06/13/apple-releases-...</td>\n",
       "      <td>https://i0.wp.com/9to5mac.com/wp-content/uploa...</td>\n",
       "      <td>2025-06-13T17:13:00Z</td>\n",
       "      <td>Apple unveiled iOS 26 earlier this week alongs...</td>\n",
       "    </tr>\n",
       "    <tr>\n",
       "      <th>4</th>\n",
       "      <td>{'id': 'abc-news', 'name': 'ABC News'}</td>\n",
       "      <td>ABC News</td>\n",
       "      <td>Air India plane crash: Investigation underway,...</td>\n",
       "      <td>None</td>\n",
       "      <td>https://abcnews.go.com/International/air-india...</td>\n",
       "      <td>None</td>\n",
       "      <td>2025-06-13T16:41:15Z</td>\n",
       "      <td>None</td>\n",
       "    </tr>\n",
       "  </tbody>\n",
       "</table>\n",
       "</div>"
      ],
      "text/plain": [
       "                                   source            author  \\\n",
       "0       {'id': None, 'name': 'Earth.com'}              None   \n",
       "1   {'id': None, 'name': 'NBCSports.com'}       Mike Florio   \n",
       "2  {'id': 'abc-news', 'name': 'ABC News'}          ABC News   \n",
       "3         {'id': None, 'name': '9to5Mac'}  Ryan Christoffel   \n",
       "4  {'id': 'abc-news', 'name': 'ABC News'}          ABC News   \n",
       "\n",
       "                                               title  \\\n",
       "0  Simple blood test detects cancer up to 3 years...   \n",
       "1  There’s a simple solution to the Shemar Stewar...   \n",
       "2  Appeals court rejects Trump's bid to challenge...   \n",
       "3  Apple releases new iOS 26 beta 1 build to deve...   \n",
       "4  Air India plane crash: Investigation underway,...   \n",
       "\n",
       "                                         description  \\\n",
       "0  Discover the innovation behind the cancer test...   \n",
       "1  To get what they want, the Bengals need to giv...   \n",
       "2                                               None   \n",
       "3  Apple has released a new build of iOS 26 beta ...   \n",
       "4                                               None   \n",
       "\n",
       "                                                 url  \\\n",
       "0  https://www.earth.com/news/simple-blood-test-d...   \n",
       "1  https://www.nbcsports.com/nfl/profootballtalk/...   \n",
       "2  https://abcnews.go.com/US/appeals-court-hear-t...   \n",
       "3  https://9to5mac.com/2025/06/13/apple-releases-...   \n",
       "4  https://abcnews.go.com/International/air-india...   \n",
       "\n",
       "                                          urlToImage           publishedAt  \\\n",
       "0  https://cff2.earth.com/uploads/2025/06/1104141...  2025-06-13T17:59:46Z   \n",
       "1  https://nbcsports.brightspotcdn.com/dims4/defa...  2025-06-13T17:45:18Z   \n",
       "2                                               None  2025-06-13T17:31:17Z   \n",
       "3  https://i0.wp.com/9to5mac.com/wp-content/uploa...  2025-06-13T17:13:00Z   \n",
       "4                                               None  2025-06-13T16:41:15Z   \n",
       "\n",
       "                                             content  \n",
       "0  Some cancers slip under the radar and remain u...  \n",
       "1  The Bengals and defensive end Shemar Stewart h...  \n",
       "2                                               None  \n",
       "3  Apple unveiled iOS 26 earlier this week alongs...  \n",
       "4                                               None  "
      ]
     },
     "execution_count": 4,
     "metadata": {},
     "output_type": "execute_result"
    }
   ],
   "source": [
    "# Parse json data into a DataFrame\n",
    "\n",
    "articles = data.get('articles', [])\n",
    "news_data = pd.DataFrame(articles)\n",
    "\n",
    "# Preview the data\n",
    "news_data.head()"
   ]
  },
  {
   "cell_type": "markdown",
   "id": "26691be9-278f-41c8-96f6-7f8a4fa30f9d",
   "metadata": {},
   "source": [
    "### Simulate A/B Test Groups\n",
    "\n",
    "- Group A: Articles published between 6 AM and 12 PM\n",
    "\n",
    "- Group B: Articles published between 6 PM and 12 AM"
   ]
  },
  {
   "cell_type": "code",
   "execution_count": 5,
   "id": "8c72c7a5-d16f-45f0-8274-31885b5a858c",
   "metadata": {},
   "outputs": [
    {
     "data": {
      "application/javascript": [
       "\n",
       "        if (window._pyforest_update_imports_cell) { window._pyforest_update_imports_cell('import pandas as pd'); }\n",
       "    "
      ],
      "text/plain": [
       "<IPython.core.display.Javascript object>"
      ]
     },
     "metadata": {},
     "output_type": "display_data"
    }
   ],
   "source": [
    "# Convert the 'publishedAt' string column to datetime format\n",
    "news_data['publishedAt'] = pd.to_datetime(news_data['publishedAt'], errors='coerce')"
   ]
  },
  {
   "cell_type": "code",
   "execution_count": 6,
   "id": "85f1dfbe-c062-438b-8711-2c0971040da8",
   "metadata": {},
   "outputs": [],
   "source": [
    "# Extract hour from the timestamp\n",
    "news_data['hour'] = news_data['publishedAt'].dt.hour"
   ]
  },
  {
   "cell_type": "code",
   "execution_count": 7,
   "id": "76fe01fb-ac72-4767-8fb1-c1bff20fd206",
   "metadata": {},
   "outputs": [
    {
     "data": {
      "application/javascript": [
       "\n",
       "        if (window._pyforest_update_imports_cell) { window._pyforest_update_imports_cell('import numpy as np\\nimport pandas as pd'); }\n",
       "    "
      ],
      "text/plain": [
       "<IPython.core.display.Javascript object>"
      ]
     },
     "metadata": {},
     "output_type": "display_data"
    }
   ],
   "source": [
    "# Assign group based on time range in 24hours\n",
    "conditions = [\n",
    "    (news_data['hour'] >= 6) & (news_data['hour'] < 12),\n",
    "    (news_data['hour'] >= 18) & (news_data['hour'] < 24)\n",
    "]\n",
    "choices = ['A', 'B']\n",
    "\n",
    "news_data['group'] = np.select(conditions, choices, default='Other')"
   ]
  },
  {
   "cell_type": "code",
   "execution_count": 8,
   "id": "a4f6c180-99c8-4f69-8ee4-cbb02b79d4ac",
   "metadata": {},
   "outputs": [],
   "source": [
    "# Drop rows that don't fall into Group A or B\n",
    "# copy the data\n",
    "news_data_ab = news_data[news_data['group'].isin(['A', 'B'])].copy()"
   ]
  },
  {
   "cell_type": "code",
   "execution_count": 9,
   "id": "af6c5fa8-789f-416c-842e-9e7c15e70ad3",
   "metadata": {},
   "outputs": [
    {
     "data": {
      "text/html": [
       "<div>\n",
       "<style scoped>\n",
       "    .dataframe tbody tr th:only-of-type {\n",
       "        vertical-align: middle;\n",
       "    }\n",
       "\n",
       "    .dataframe tbody tr th {\n",
       "        vertical-align: top;\n",
       "    }\n",
       "\n",
       "    .dataframe thead th {\n",
       "        text-align: right;\n",
       "    }\n",
       "</style>\n",
       "<table border=\"1\" class=\"dataframe\">\n",
       "  <thead>\n",
       "    <tr style=\"text-align: right;\">\n",
       "      <th></th>\n",
       "      <th>title</th>\n",
       "      <th>publishedAt</th>\n",
       "      <th>hour</th>\n",
       "      <th>group</th>\n",
       "    </tr>\n",
       "  </thead>\n",
       "  <tbody>\n",
       "    <tr>\n",
       "      <th>17</th>\n",
       "      <td>Report: Apple Aims to Release AI-Powered Upgra...</td>\n",
       "      <td>2025-06-13 10:37:21+00:00</td>\n",
       "      <td>10</td>\n",
       "      <td>A</td>\n",
       "    </tr>\n",
       "    <tr>\n",
       "      <th>21</th>\n",
       "      <td>Mysterious surface patterns found on the moons...</td>\n",
       "      <td>2025-06-12 18:42:21+00:00</td>\n",
       "      <td>18</td>\n",
       "      <td>B</td>\n",
       "    </tr>\n",
       "    <tr>\n",
       "      <th>23</th>\n",
       "      <td>“Razor Blade Throat” And A Traveling “Nimbus”:...</td>\n",
       "      <td>2025-06-12 11:27:10+00:00</td>\n",
       "      <td>11</td>\n",
       "      <td>A</td>\n",
       "    </tr>\n",
       "    <tr>\n",
       "      <th>24</th>\n",
       "      <td>Strawberry Moon 2025 captured across Wales - BBC</td>\n",
       "      <td>2025-06-12 10:26:54+00:00</td>\n",
       "      <td>10</td>\n",
       "      <td>A</td>\n",
       "    </tr>\n",
       "  </tbody>\n",
       "</table>\n",
       "</div>"
      ],
      "text/plain": [
       "                                                title  \\\n",
       "17  Report: Apple Aims to Release AI-Powered Upgra...   \n",
       "21  Mysterious surface patterns found on the moons...   \n",
       "23  “Razor Blade Throat” And A Traveling “Nimbus”:...   \n",
       "24   Strawberry Moon 2025 captured across Wales - BBC   \n",
       "\n",
       "                 publishedAt  hour group  \n",
       "17 2025-06-13 10:37:21+00:00    10     A  \n",
       "21 2025-06-12 18:42:21+00:00    18     B  \n",
       "23 2025-06-12 11:27:10+00:00    11     A  \n",
       "24 2025-06-12 10:26:54+00:00    10     A  "
      ]
     },
     "execution_count": 9,
     "metadata": {},
     "output_type": "execute_result"
    }
   ],
   "source": [
    "# Preview the assignment\n",
    "# picpick necessary columns for A|B testing\n",
    "news_data_ab[['title', 'publishedAt', 'hour', 'group']].head()"
   ]
  },
  {
   "cell_type": "markdown",
   "id": "16dc6cf3-123e-41ef-9b4e-704103465a09",
   "metadata": {},
   "source": [
    "#### Define time-based grouping conditions:\n",
    "#### - Group A: Articles published between 6 AM (inclusive) and 12 PM (exclusive)\n",
    "#### - Group B: Articles published between 6 PM (inclusive) and midnight (exclusive)\n",
    "#### - All other times will be labeled 'Other'"
   ]
  },
  {
   "cell_type": "code",
   "execution_count": 10,
   "id": "ccb5861b-0bca-4135-9a38-c9b9b99a6068",
   "metadata": {},
   "outputs": [
    {
     "data": {
      "application/javascript": [
       "\n",
       "        if (window._pyforest_update_imports_cell) { window._pyforest_update_imports_cell('import numpy as np\\nimport pandas as pd'); }\n",
       "    "
      ],
      "text/plain": [
       "<IPython.core.display.Javascript object>"
      ]
     },
     "metadata": {},
     "output_type": "display_data"
    }
   ],
   "source": [
    "# Assign group based on time, morning label and evening label\n",
    "\n",
    "conditions = [\n",
    "    (news_data['hour'] >= 6) & (news_data['hour'] < 12),\n",
    "    (news_data['hour'] >= 18) & (news_data['hour'] < 24)\n",
    "]\n",
    "choices = ['A', 'B']\n",
    "\n",
    "news_data['group'] = np.select(conditions, choices, default='Other')"
   ]
  },
  {
   "cell_type": "code",
   "execution_count": 11,
   "id": "ddb67f7a-ddde-40b9-8653-3c22f20d0449",
   "metadata": {},
   "outputs": [],
   "source": [
    "# Remove missing titles\n",
    "news_data = news_data[news_data['title'].notnull()].copy()"
   ]
  },
  {
   "cell_type": "code",
   "execution_count": 12,
   "id": "2cf3f348-575e-4565-bfc7-345c2a301708",
   "metadata": {},
   "outputs": [],
   "source": [
    "# Create a new column for headline length (in characters)\n",
    "news_data['headline_length'] = news_data['title'].apply(len)"
   ]
  },
  {
   "cell_type": "code",
   "execution_count": 13,
   "id": "f940f3cc-317f-4b21-8610-ae753f6277f6",
   "metadata": {},
   "outputs": [],
   "source": [
    "# Calculate the median headline length\n",
    "median_length = news_data['headline_length'].median()"
   ]
  },
  {
   "cell_type": "code",
   "execution_count": 14,
   "id": "d0df0da8-1a42-4f37-bbab-2844bf30f38f",
   "metadata": {},
   "outputs": [],
   "source": [
    "# Assign groups based on headline length\n",
    "# Group A: Headlines shorter than the median length. \n",
    "# Group B: Headlines longer than or equal to the median length.\n",
    "\n",
    "news_data['group'] = news_data['headline_length'].apply(lambda x: 'A' if x < median_length else 'B')"
   ]
  },
  {
   "cell_type": "code",
   "execution_count": 15,
   "id": "48366b85-78ec-408e-90f5-8ba25e164a9f",
   "metadata": {},
   "outputs": [
    {
     "data": {
      "text/html": [
       "<div>\n",
       "<style scoped>\n",
       "    .dataframe tbody tr th:only-of-type {\n",
       "        vertical-align: middle;\n",
       "    }\n",
       "\n",
       "    .dataframe tbody tr th {\n",
       "        vertical-align: top;\n",
       "    }\n",
       "\n",
       "    .dataframe thead th {\n",
       "        text-align: right;\n",
       "    }\n",
       "</style>\n",
       "<table border=\"1\" class=\"dataframe\">\n",
       "  <thead>\n",
       "    <tr style=\"text-align: right;\">\n",
       "      <th></th>\n",
       "      <th>title</th>\n",
       "      <th>headline_length</th>\n",
       "      <th>group</th>\n",
       "    </tr>\n",
       "  </thead>\n",
       "  <tbody>\n",
       "    <tr>\n",
       "      <th>0</th>\n",
       "      <td>Simple blood test detects cancer up to 3 years...</td>\n",
       "      <td>81</td>\n",
       "      <td>B</td>\n",
       "    </tr>\n",
       "    <tr>\n",
       "      <th>1</th>\n",
       "      <td>There’s a simple solution to the Shemar Stewar...</td>\n",
       "      <td>85</td>\n",
       "      <td>B</td>\n",
       "    </tr>\n",
       "    <tr>\n",
       "      <th>2</th>\n",
       "      <td>Appeals court rejects Trump's bid to challenge...</td>\n",
       "      <td>93</td>\n",
       "      <td>B</td>\n",
       "    </tr>\n",
       "    <tr>\n",
       "      <th>3</th>\n",
       "      <td>Apple releases new iOS 26 beta 1 build to deve...</td>\n",
       "      <td>62</td>\n",
       "      <td>A</td>\n",
       "    </tr>\n",
       "    <tr>\n",
       "      <th>4</th>\n",
       "      <td>Air India plane crash: Investigation underway,...</td>\n",
       "      <td>75</td>\n",
       "      <td>A</td>\n",
       "    </tr>\n",
       "  </tbody>\n",
       "</table>\n",
       "</div>"
      ],
      "text/plain": [
       "                                               title  headline_length group\n",
       "0  Simple blood test detects cancer up to 3 years...               81     B\n",
       "1  There’s a simple solution to the Shemar Stewar...               85     B\n",
       "2  Appeals court rejects Trump's bid to challenge...               93     B\n",
       "3  Apple releases new iOS 26 beta 1 build to deve...               62     A\n",
       "4  Air India plane crash: Investigation underway,...               75     A"
      ]
     },
     "execution_count": 15,
     "metadata": {},
     "output_type": "execute_result"
    }
   ],
   "source": [
    "# Preview the results\n",
    "news_data[['title', 'headline_length', 'group']].head()"
   ]
  },
  {
   "cell_type": "code",
   "execution_count": 16,
   "id": "23a08769-bfea-49bc-9d87-e098b0377638",
   "metadata": {},
   "outputs": [
    {
     "name": "stdout",
     "output_type": "stream",
     "text": [
      "<class 'pandas.core.frame.DataFrame'>\n",
      "RangeIndex: 25 entries, 0 to 24\n",
      "Data columns (total 11 columns):\n",
      " #   Column           Non-Null Count  Dtype              \n",
      "---  ------           --------------  -----              \n",
      " 0   source           25 non-null     object             \n",
      " 1   author           17 non-null     object             \n",
      " 2   title            25 non-null     object             \n",
      " 3   description      23 non-null     object             \n",
      " 4   url              25 non-null     object             \n",
      " 5   urlToImage       23 non-null     object             \n",
      " 6   publishedAt      25 non-null     datetime64[ns, UTC]\n",
      " 7   content          21 non-null     object             \n",
      " 8   hour             25 non-null     int32              \n",
      " 9   group            25 non-null     object             \n",
      " 10  headline_length  25 non-null     int64              \n",
      "dtypes: datetime64[ns, UTC](1), int32(1), int64(1), object(8)\n",
      "memory usage: 2.2+ KB\n"
     ]
    }
   ],
   "source": [
    "# Check dataset structure and data types\n",
    "news_data.info()"
   ]
  },
  {
   "cell_type": "code",
   "execution_count": 17,
   "id": "f1e680f1-7741-4221-9cf3-f8bde1fee362",
   "metadata": {},
   "outputs": [
    {
     "data": {
      "text/html": [
       "<div>\n",
       "<style scoped>\n",
       "    .dataframe tbody tr th:only-of-type {\n",
       "        vertical-align: middle;\n",
       "    }\n",
       "\n",
       "    .dataframe tbody tr th {\n",
       "        vertical-align: top;\n",
       "    }\n",
       "\n",
       "    .dataframe thead th {\n",
       "        text-align: right;\n",
       "    }\n",
       "</style>\n",
       "<table border=\"1\" class=\"dataframe\">\n",
       "  <thead>\n",
       "    <tr style=\"text-align: right;\">\n",
       "      <th></th>\n",
       "      <th>source</th>\n",
       "      <th>author</th>\n",
       "      <th>title</th>\n",
       "      <th>description</th>\n",
       "      <th>url</th>\n",
       "      <th>urlToImage</th>\n",
       "      <th>publishedAt</th>\n",
       "      <th>content</th>\n",
       "      <th>hour</th>\n",
       "      <th>group</th>\n",
       "      <th>headline_length</th>\n",
       "    </tr>\n",
       "  </thead>\n",
       "  <tbody>\n",
       "    <tr>\n",
       "      <th>count</th>\n",
       "      <td>25</td>\n",
       "      <td>17</td>\n",
       "      <td>25</td>\n",
       "      <td>23</td>\n",
       "      <td>25</td>\n",
       "      <td>23</td>\n",
       "      <td>25</td>\n",
       "      <td>21</td>\n",
       "      <td>25.000000</td>\n",
       "      <td>25</td>\n",
       "      <td>25.000000</td>\n",
       "    </tr>\n",
       "    <tr>\n",
       "      <th>unique</th>\n",
       "      <td>21</td>\n",
       "      <td>16</td>\n",
       "      <td>25</td>\n",
       "      <td>23</td>\n",
       "      <td>25</td>\n",
       "      <td>23</td>\n",
       "      <td>NaN</td>\n",
       "      <td>21</td>\n",
       "      <td>NaN</td>\n",
       "      <td>2</td>\n",
       "      <td>NaN</td>\n",
       "    </tr>\n",
       "    <tr>\n",
       "      <th>top</th>\n",
       "      <td>{'id': None, 'name': 'BBC News'}</td>\n",
       "      <td>ABC News</td>\n",
       "      <td>Simple blood test detects cancer up to 3 years...</td>\n",
       "      <td>Discover the innovation behind the cancer test...</td>\n",
       "      <td>https://www.earth.com/news/simple-blood-test-d...</td>\n",
       "      <td>https://cff2.earth.com/uploads/2025/06/1104141...</td>\n",
       "      <td>NaN</td>\n",
       "      <td>Some cancers slip under the radar and remain u...</td>\n",
       "      <td>NaN</td>\n",
       "      <td>B</td>\n",
       "      <td>NaN</td>\n",
       "    </tr>\n",
       "    <tr>\n",
       "      <th>freq</th>\n",
       "      <td>3</td>\n",
       "      <td>2</td>\n",
       "      <td>1</td>\n",
       "      <td>1</td>\n",
       "      <td>1</td>\n",
       "      <td>1</td>\n",
       "      <td>NaN</td>\n",
       "      <td>1</td>\n",
       "      <td>NaN</td>\n",
       "      <td>13</td>\n",
       "      <td>NaN</td>\n",
       "    </tr>\n",
       "    <tr>\n",
       "      <th>mean</th>\n",
       "      <td>NaN</td>\n",
       "      <td>NaN</td>\n",
       "      <td>NaN</td>\n",
       "      <td>NaN</td>\n",
       "      <td>NaN</td>\n",
       "      <td>NaN</td>\n",
       "      <td>2025-06-13 09:27:53.159999744+00:00</td>\n",
       "      <td>NaN</td>\n",
       "      <td>12.880000</td>\n",
       "      <td>NaN</td>\n",
       "      <td>78.880000</td>\n",
       "    </tr>\n",
       "    <tr>\n",
       "      <th>min</th>\n",
       "      <td>NaN</td>\n",
       "      <td>NaN</td>\n",
       "      <td>NaN</td>\n",
       "      <td>NaN</td>\n",
       "      <td>NaN</td>\n",
       "      <td>NaN</td>\n",
       "      <td>2025-06-12 10:26:54+00:00</td>\n",
       "      <td>NaN</td>\n",
       "      <td>1.000000</td>\n",
       "      <td>NaN</td>\n",
       "      <td>48.000000</td>\n",
       "    </tr>\n",
       "    <tr>\n",
       "      <th>25%</th>\n",
       "      <td>NaN</td>\n",
       "      <td>NaN</td>\n",
       "      <td>NaN</td>\n",
       "      <td>NaN</td>\n",
       "      <td>NaN</td>\n",
       "      <td>NaN</td>\n",
       "      <td>2025-06-13 04:28:00+00:00</td>\n",
       "      <td>NaN</td>\n",
       "      <td>12.000000</td>\n",
       "      <td>NaN</td>\n",
       "      <td>67.000000</td>\n",
       "    </tr>\n",
       "    <tr>\n",
       "      <th>50%</th>\n",
       "      <td>NaN</td>\n",
       "      <td>NaN</td>\n",
       "      <td>NaN</td>\n",
       "      <td>NaN</td>\n",
       "      <td>NaN</td>\n",
       "      <td>NaN</td>\n",
       "      <td>2025-06-13 13:09:43+00:00</td>\n",
       "      <td>NaN</td>\n",
       "      <td>14.000000</td>\n",
       "      <td>NaN</td>\n",
       "      <td>81.000000</td>\n",
       "    </tr>\n",
       "    <tr>\n",
       "      <th>75%</th>\n",
       "      <td>NaN</td>\n",
       "      <td>NaN</td>\n",
       "      <td>NaN</td>\n",
       "      <td>NaN</td>\n",
       "      <td>NaN</td>\n",
       "      <td>NaN</td>\n",
       "      <td>2025-06-13 16:28:00+00:00</td>\n",
       "      <td>NaN</td>\n",
       "      <td>16.000000</td>\n",
       "      <td>NaN</td>\n",
       "      <td>89.000000</td>\n",
       "    </tr>\n",
       "    <tr>\n",
       "      <th>max</th>\n",
       "      <td>NaN</td>\n",
       "      <td>NaN</td>\n",
       "      <td>NaN</td>\n",
       "      <td>NaN</td>\n",
       "      <td>NaN</td>\n",
       "      <td>NaN</td>\n",
       "      <td>2025-06-13 17:59:46+00:00</td>\n",
       "      <td>NaN</td>\n",
       "      <td>18.000000</td>\n",
       "      <td>NaN</td>\n",
       "      <td>115.000000</td>\n",
       "    </tr>\n",
       "    <tr>\n",
       "      <th>std</th>\n",
       "      <td>NaN</td>\n",
       "      <td>NaN</td>\n",
       "      <td>NaN</td>\n",
       "      <td>NaN</td>\n",
       "      <td>NaN</td>\n",
       "      <td>NaN</td>\n",
       "      <td>NaN</td>\n",
       "      <td>NaN</td>\n",
       "      <td>4.639684</td>\n",
       "      <td>NaN</td>\n",
       "      <td>17.047287</td>\n",
       "    </tr>\n",
       "  </tbody>\n",
       "</table>\n",
       "</div>"
      ],
      "text/plain": [
       "                                  source    author  \\\n",
       "count                                 25        17   \n",
       "unique                                21        16   \n",
       "top     {'id': None, 'name': 'BBC News'}  ABC News   \n",
       "freq                                   3         2   \n",
       "mean                                 NaN       NaN   \n",
       "min                                  NaN       NaN   \n",
       "25%                                  NaN       NaN   \n",
       "50%                                  NaN       NaN   \n",
       "75%                                  NaN       NaN   \n",
       "max                                  NaN       NaN   \n",
       "std                                  NaN       NaN   \n",
       "\n",
       "                                                    title  \\\n",
       "count                                                  25   \n",
       "unique                                                 25   \n",
       "top     Simple blood test detects cancer up to 3 years...   \n",
       "freq                                                    1   \n",
       "mean                                                  NaN   \n",
       "min                                                   NaN   \n",
       "25%                                                   NaN   \n",
       "50%                                                   NaN   \n",
       "75%                                                   NaN   \n",
       "max                                                   NaN   \n",
       "std                                                   NaN   \n",
       "\n",
       "                                              description  \\\n",
       "count                                                  23   \n",
       "unique                                                 23   \n",
       "top     Discover the innovation behind the cancer test...   \n",
       "freq                                                    1   \n",
       "mean                                                  NaN   \n",
       "min                                                   NaN   \n",
       "25%                                                   NaN   \n",
       "50%                                                   NaN   \n",
       "75%                                                   NaN   \n",
       "max                                                   NaN   \n",
       "std                                                   NaN   \n",
       "\n",
       "                                                      url  \\\n",
       "count                                                  25   \n",
       "unique                                                 25   \n",
       "top     https://www.earth.com/news/simple-blood-test-d...   \n",
       "freq                                                    1   \n",
       "mean                                                  NaN   \n",
       "min                                                   NaN   \n",
       "25%                                                   NaN   \n",
       "50%                                                   NaN   \n",
       "75%                                                   NaN   \n",
       "max                                                   NaN   \n",
       "std                                                   NaN   \n",
       "\n",
       "                                               urlToImage  \\\n",
       "count                                                  23   \n",
       "unique                                                 23   \n",
       "top     https://cff2.earth.com/uploads/2025/06/1104141...   \n",
       "freq                                                    1   \n",
       "mean                                                  NaN   \n",
       "min                                                   NaN   \n",
       "25%                                                   NaN   \n",
       "50%                                                   NaN   \n",
       "75%                                                   NaN   \n",
       "max                                                   NaN   \n",
       "std                                                   NaN   \n",
       "\n",
       "                                publishedAt  \\\n",
       "count                                    25   \n",
       "unique                                  NaN   \n",
       "top                                     NaN   \n",
       "freq                                    NaN   \n",
       "mean    2025-06-13 09:27:53.159999744+00:00   \n",
       "min               2025-06-12 10:26:54+00:00   \n",
       "25%               2025-06-13 04:28:00+00:00   \n",
       "50%               2025-06-13 13:09:43+00:00   \n",
       "75%               2025-06-13 16:28:00+00:00   \n",
       "max               2025-06-13 17:59:46+00:00   \n",
       "std                                     NaN   \n",
       "\n",
       "                                                  content       hour group  \\\n",
       "count                                                  21  25.000000    25   \n",
       "unique                                                 21        NaN     2   \n",
       "top     Some cancers slip under the radar and remain u...        NaN     B   \n",
       "freq                                                    1        NaN    13   \n",
       "mean                                                  NaN  12.880000   NaN   \n",
       "min                                                   NaN   1.000000   NaN   \n",
       "25%                                                   NaN  12.000000   NaN   \n",
       "50%                                                   NaN  14.000000   NaN   \n",
       "75%                                                   NaN  16.000000   NaN   \n",
       "max                                                   NaN  18.000000   NaN   \n",
       "std                                                   NaN   4.639684   NaN   \n",
       "\n",
       "        headline_length  \n",
       "count         25.000000  \n",
       "unique              NaN  \n",
       "top                 NaN  \n",
       "freq                NaN  \n",
       "mean          78.880000  \n",
       "min           48.000000  \n",
       "25%           67.000000  \n",
       "50%           81.000000  \n",
       "75%           89.000000  \n",
       "max          115.000000  \n",
       "std           17.047287  "
      ]
     },
     "execution_count": 17,
     "metadata": {},
     "output_type": "execute_result"
    }
   ],
   "source": [
    "# Summary statistics and include columns with string data type\n",
    "news_data.describe(include='all')"
   ]
  },
  {
   "cell_type": "code",
   "execution_count": 18,
   "id": "f2a9c5c9-bd0b-44d7-9ec8-fcdcfd664ed5",
   "metadata": {},
   "outputs": [
    {
     "data": {
      "text/plain": [
       "source             0\n",
       "author             8\n",
       "title              0\n",
       "description        2\n",
       "url                0\n",
       "urlToImage         2\n",
       "publishedAt        0\n",
       "content            4\n",
       "hour               0\n",
       "group              0\n",
       "headline_length    0\n",
       "dtype: int64"
      ]
     },
     "execution_count": 18,
     "metadata": {},
     "output_type": "execute_result"
    }
   ],
   "source": [
    "# Count of missing values\n",
    "\n",
    "news_data.isnull().sum()"
   ]
  },
  {
   "cell_type": "code",
   "execution_count": 19,
   "id": "023643c7-4ad1-4d22-b951-7529d0fc4650",
   "metadata": {},
   "outputs": [],
   "source": [
    "# Fill missing 'descriptions' with empty string\n",
    "news_data['description'] = news_data['description'].fillna('')"
   ]
  },
  {
   "cell_type": "code",
   "execution_count": 20,
   "id": "579cbb2d-e05e-4b38-b1dd-a68fe1cb8bac",
   "metadata": {},
   "outputs": [],
   "source": [
    "# Fill 'content' with 'description' if content is missing\n",
    "news_data['content'] = news_data['content'].fillna(news_data['description'])"
   ]
  },
  {
   "cell_type": "code",
   "execution_count": 21,
   "id": "4341502d-29b2-4ca7-aa30-f5dee28b3ac2",
   "metadata": {},
   "outputs": [],
   "source": [
    "# Drop rows with critical missing values (e.g., group, title, publishedAt)\n",
    "news_data_clean = news_data.dropna(subset=['group', 'title', 'publishedAt'])"
   ]
  },
  {
   "cell_type": "markdown",
   "id": "dcbc4820-ab8c-4ae1-886f-85faa2a154df",
   "metadata": {},
   "source": [
    "### Data Cleaning & Exploration"
   ]
  },
  {
   "cell_type": "code",
   "execution_count": 22,
   "id": "b4e40751-1854-4a36-9bf4-cb2102626351",
   "metadata": {},
   "outputs": [
    {
     "data": {
      "text/plain": [
       "group\n",
       "B    13\n",
       "A    12\n",
       "Name: count, dtype: int64"
      ]
     },
     "execution_count": 22,
     "metadata": {},
     "output_type": "execute_result"
    }
   ],
   "source": [
    "# Group counts\n",
    "# To know the number of articles in each group\n",
    "\n",
    "news_data_clean['group'].value_counts()"
   ]
  },
  {
   "cell_type": "code",
   "execution_count": 23,
   "id": "1112ff51-f364-4442-9a11-15ff12fff02a",
   "metadata": {},
   "outputs": [
    {
     "data": {
      "text/plain": [
       "source\n",
       "BBC News                                        3\n",
       "Earth.com                                       2\n",
       "ABC News                                        2\n",
       "Neurosciencenews.com                            1\n",
       "The Daily Galaxy --Great Discoveries Channel    1\n",
       "Name: count, dtype: int64"
      ]
     },
     "execution_count": 23,
     "metadata": {},
     "output_type": "execute_result"
    }
   ],
   "source": [
    "# Data Sources\n",
    "# Sources of the articles generated\n",
    "news_data_clean['source'].apply(lambda x: x['name'] if isinstance(x, dict) else None).value_counts().head()"
   ]
  },
  {
   "cell_type": "code",
   "execution_count": 24,
   "id": "89757d64-b2a1-4426-a14e-6fd4465dd93e",
   "metadata": {},
   "outputs": [
    {
     "data": {
      "image/png": "[encoded data removed]",
      "text/plain": [
       "<Figure size 800x500 with 1 Axes>"
      ]
     },
     "metadata": {},
     "output_type": "display_data"
    },
    {
     "data": {
      "text/plain": [
       "<Figure size 640x480 with 0 Axes>"
      ]
     },
     "metadata": {},
     "output_type": "display_data"
    }
   ],
   "source": [
    "# Histogram of headline lengths\n",
    "import matplotlib.pyplot as plt\n",
    "import seaborn as sns\n",
    "\n",
    "plt.figure(figsize=(8, 5))\n",
    "sns.histplot(news_data_clean['headline_length'], bins=20, kde=True)\n",
    "plt.title('Distribution of Headline Lengths')\n",
    "plt.xlabel('Headline Length')\n",
    "plt.ylabel('Frequency')\n",
    "plt.show()\n",
    "# Save the plot as a PNG image\n",
    "plt.savefig('my_plot.png')"
   ]
  },
  {
   "cell_type": "code",
   "execution_count": 25,
   "id": "190224cb-bf6e-433a-99d7-6de5be461747",
   "metadata": {},
   "outputs": [],
   "source": [
    "# Calculate the 1st and 99th percentiles of headline lengths to identify outliers\n",
    "# - q_low: The value below which only 1% of headlines fall (extremely short headlines)\n",
    "# - q_high: The value above which only 1% of headlines fall (extremely long headlines)\n",
    "\n",
    "\n",
    "q_low = news_data_clean['headline_length'].quantile(0.01)\n",
    "q_high = news_data_clean['headline_length'].quantile(0.99)"
   ]
  },
  {
   "cell_type": "code",
   "execution_count": 26,
   "id": "4a0486e6-5fb1-4014-864d-ea928c05e40a",
   "metadata": {},
   "outputs": [],
   "source": [
    "# Filter the DataFrame to keep only headlines within the \"normal\" length range\n",
    "# - Removes the shortest 1% and longest 1% of headlines to reduce skew from outliers\n",
    "# - This creates a more representative dataset for analysis\n",
    "\n",
    "\n",
    "news_data_clean = news_data_clean[\n",
    "            (news_data_clean['headline_length'] >= q_low) & \n",
    "            (news_data_clean['headline_length'] <= q_high)\n",
    "]"
   ]
  },
  {
   "cell_type": "markdown",
   "id": "039dbe12-7e08-4fe6-b240-5da36e36de9f",
   "metadata": {},
   "source": [
    "### Analysis & Visualization"
   ]
  },
  {
   "cell_type": "code",
   "execution_count": 27,
   "id": "2564038e-0521-4ac6-9906-476ec34bb7e0",
   "metadata": {},
   "outputs": [
    {
     "data": {
      "image/png": "[encoded data removed]",
      "text/plain": [
       "<Figure size 800x600 with 1 Axes>"
      ]
     },
     "metadata": {},
     "output_type": "display_data"
    },
    {
     "data": {
      "text/plain": [
       "<Figure size 640x480 with 0 Axes>"
      ]
     },
     "metadata": {},
     "output_type": "display_data"
    }
   ],
   "source": [
    "import matplotlib.pyplot as plt\n",
    "\n",
    "\n",
    "# Compare Headline Length by Group\n",
    "\n",
    "plt.figure(figsize=(8, 6))\n",
    "sns.boxplot(data=news_data_clean, x='group', y='headline_length')\n",
    "plt.title(\"Headline Length by Group (A vs B)\")\n",
    "plt.xlabel(\"Group\")\n",
    "plt.ylabel(\"Headline Length\")\n",
    "plt.show()\n",
    "# Save the plot as a PNG image\n",
    "plt.savefig('my_plot_1.png')"
   ]
  },
  {
   "cell_type": "code",
   "execution_count": 28,
   "id": "cd5b24e3-344a-4653-a627-dc39c7a0c437",
   "metadata": {},
   "outputs": [
    {
     "data": {
      "image/png": "[encoded data removed]",
      "text/plain": [
       "<Figure size 640x480 with 1 Axes>"
      ]
     },
     "metadata": {},
     "output_type": "display_data"
    },
    {
     "data": {
      "text/plain": [
       "<Figure size 640x480 with 0 Axes>"
      ]
     },
     "metadata": {},
     "output_type": "display_data"
    }
   ],
   "source": [
    "#  Count of Articles by Group\n",
    "\n",
    "sns.countplot(data=news_data_clean, x='group')\n",
    "plt.title(\"Number of Articles per Group\")\n",
    "plt.xlabel(\"Group\")\n",
    "plt.ylabel(\"Count\")\n",
    "plt.show()\n",
    "# Save the plot as a PNG image\n",
    "plt.savefig('my_plot_2.png')"
   ]
  },
  {
   "cell_type": "code",
   "execution_count": 29,
   "id": "efe71981-43fd-4fbc-8aa3-9aaebf15921f",
   "metadata": {},
   "outputs": [
    {
     "data": {
      "image/png": "[encoded data removed]",
      "text/plain": [
       "<Figure size 1000x600 with 1 Axes>"
      ]
     },
     "metadata": {},
     "output_type": "display_data"
    },
    {
     "data": {
      "text/plain": [
       "<Figure size 640x480 with 0 Axes>"
      ]
     },
     "metadata": {},
     "output_type": "display_data"
    }
   ],
   "source": [
    "# Top Sources per Group\n",
    "\n",
    "# Extract source names\n",
    "news_data_clean['source_name'] = news_data_clean['source'].apply(lambda x: x['name'] if isinstance(x, dict) else None)\n",
    "\n",
    "# Group by source and group\n",
    "source_group = news_data_clean.groupby(['source_name', 'group']).size().unstack().fillna(0)\n",
    "\n",
    "# Show top 5 sources by total count\n",
    "top_sources = source_group.sum(axis=1).sort_values(ascending=False).head(5).index\n",
    "source_group.loc[top_sources].plot(kind='bar', figsize=(10, 6))\n",
    "plt.title(\"Top Sources by Group\")\n",
    "plt.ylabel(\"Number of Articles\")\n",
    "plt.xticks(rotation=45)\n",
    "plt.show()\n",
    "# Save the plot as a PNG image\n",
    "plt.savefig('my_plot_3.png')"
   ]
  },
  {
   "cell_type": "code",
   "execution_count": 30,
   "id": "c75ac17e-ae52-47e9-ab18-a3af53d3eb64",
   "metadata": {},
   "outputs": [
    {
     "data": {
      "image/png": "[encoded data removed]",
      "text/plain": [
       "<Figure size 1000x500 with 1 Axes>"
      ]
     },
     "metadata": {},
     "output_type": "display_data"
    },
    {
     "data": {
      "text/plain": [
       "<Figure size 640x480 with 0 Axes>"
      ]
     },
     "metadata": {},
     "output_type": "display_data"
    }
   ],
   "source": [
    "# Publication Time Distribution \n",
    "\n",
    "if 'hour' in news_data_clean.columns:\n",
    "    plt.figure(figsize=(10, 5))\n",
    "    sns.histplot(data=news_data_clean, x='hour', bins=24, kde=False, hue='group', multiple='stack')\n",
    "    plt.title(\"Publication Hour Distribution by Group\")\n",
    "    plt.xlabel(\"Hour of Day\")\n",
    "    plt.ylabel(\"Number of Articles\")\n",
    "    plt.show()\n",
    "    # Save the plot as a PNG image\n",
    "    plt.savefig('my_plot_4.png')"
   ]
  },
  {
   "cell_type": "markdown",
   "id": "07d6f6d6-742c-42e0-adae-83f3210f659b",
   "metadata": {},
   "source": [
    "### A/B Testing & Statistical Analysis"
   ]
  },
  {
   "cell_type": "code",
   "execution_count": 32,
   "id": "ee23c4b0-6217-41a4-a415-5ce94d7ca6d5",
   "metadata": {},
   "outputs": [
    {
     "name": "stdout",
     "output_type": "stream",
     "text": [
      "Group A mean: 65.9090909090909\n",
      "Group B mean: 90.33333333333333\n"
     ]
    }
   ],
   "source": [
    "#  Prepare Group Data for t-test\n",
    "\n",
    "from scipy.stats import ttest_ind\n",
    "\n",
    "# Split headline lengths by group\n",
    "group_A = news_data_clean[news_data_clean['group'] == 'A']['headline_length']\n",
    "group_B = news_data_clean[news_data_clean['group'] == 'B']['headline_length']\n",
    "\n",
    "# Quick summary stats\n",
    "print(\"Group A mean:\", group_A.mean())\n",
    "print(\"Group B mean:\", group_B.mean())\n",
    "\n"
   ]
  },
  {
   "cell_type": "markdown",
   "id": "1899c7dd-3769-4abc-8d79-24660b79c775",
   "metadata": {},
   "source": [
    "### Run the Independent T-Test"
   ]
  },
  {
   "cell_type": "code",
   "execution_count": 33,
   "id": "684cdc3b-fdce-4ed5-869c-37a853e9c6a4",
   "metadata": {},
   "outputs": [
    {
     "name": "stdout",
     "output_type": "stream",
     "text": [
      "T-statistic: -7.56439127266302\n",
      "P-value: 2.6755173487795804e-07\n"
     ]
    }
   ],
   "source": [
    "# Perform the t-test\n",
    "t_stat, p_value = ttest_ind(group_A, group_B, equal_var=False)\n",
    "\n",
    "print(\"T-statistic:\", t_stat)\n",
    "print(\"P-value:\", p_value)"
   ]
  },
  {
   "cell_type": "code",
   "execution_count": 34,
   "id": "72bf34b2-3694-46b9-b138-79b047ac425b",
   "metadata": {},
   "outputs": [
    {
     "data": {
      "application/javascript": [
       "\n",
       "        if (window._pyforest_update_imports_cell) { window._pyforest_update_imports_cell('import numpy as np\\nimport pandas as pd'); }\n",
       "    "
      ],
      "text/plain": [
       "<IPython.core.display.Javascript object>"
      ]
     },
     "metadata": {},
     "output_type": "display_data"
    },
    {
     "data": {
      "application/javascript": [
       "\n",
       "        if (window._pyforest_update_imports_cell) { window._pyforest_update_imports_cell('import numpy as np\\nimport pandas as pd'); }\n",
       "    "
      ],
      "text/plain": [
       "<IPython.core.display.Javascript object>"
      ]
     },
     "metadata": {},
     "output_type": "display_data"
    },
    {
     "data": {
      "image/png": "[encoded data removed]",
      "text/plain": [
       "<Figure size 800x500 with 1 Axes>"
      ]
     },
     "metadata": {},
     "output_type": "display_data"
    },
    {
     "data": {
      "text/plain": [
       "<Figure size 640x480 with 0 Axes>"
      ]
     },
     "metadata": {},
     "output_type": "display_data"
    }
   ],
   "source": [
    "# Simulate some sample data to represent group_A and group_B\n",
    "# np.random.seed(42)\n",
    "group_A = np.random.normal(loc=50, scale=5, size=100)  # Group A with lower mean\n",
    "group_B = np.random.normal(loc=60, scale=5, size=100)  # Group B with higher mean\n",
    "\n",
    "# Create boxplot\n",
    "plt.figure(figsize=(8, 5))\n",
    "sns.boxplot(data=[group_A, group_B], palette=\"pastel\")\n",
    "plt.xticks([0, 1], ['Group A', 'Group B'])\n",
    "plt.title('Boxplot Comparison: Group A vs Group B')\n",
    "plt.ylabel('Values')\n",
    "plt.grid(axis='y', linestyle='--', alpha=0.7)\n",
    "\n",
    "plt.tight_layout()\n",
    "plt.show()\n",
    "plt.savefig('my_plot_5.png')"
   ]
  },
  {
   "cell_type": "code",
   "execution_count": 36,
   "id": "26fc933b-6ab7-425a-964f-8d04b4c14ed7",
   "metadata": {},
   "outputs": [
    {
     "data": {
      "text/html": [
       "<div>\n",
       "<style scoped>\n",
       "    .dataframe tbody tr th:only-of-type {\n",
       "        vertical-align: middle;\n",
       "    }\n",
       "\n",
       "    .dataframe tbody tr th {\n",
       "        vertical-align: top;\n",
       "    }\n",
       "\n",
       "    .dataframe thead th {\n",
       "        text-align: right;\n",
       "    }\n",
       "</style>\n",
       "<table border=\"1\" class=\"dataframe\">\n",
       "  <thead>\n",
       "    <tr style=\"text-align: right;\">\n",
       "      <th></th>\n",
       "      <th>source</th>\n",
       "      <th>author</th>\n",
       "      <th>title</th>\n",
       "      <th>description</th>\n",
       "      <th>url</th>\n",
       "      <th>urlToImage</th>\n",
       "      <th>publishedAt</th>\n",
       "      <th>content</th>\n",
       "      <th>hour</th>\n",
       "      <th>group</th>\n",
       "      <th>headline_length</th>\n",
       "      <th>source_name</th>\n",
       "    </tr>\n",
       "  </thead>\n",
       "  <tbody>\n",
       "    <tr>\n",
       "      <th>0</th>\n",
       "      <td>{'id': None, 'name': 'Earth.com'}</td>\n",
       "      <td>None</td>\n",
       "      <td>Simple blood test detects cancer up to 3 years...</td>\n",
       "      <td>Discover the innovation behind the cancer test...</td>\n",
       "      <td>https://www.earth.com/news/simple-blood-test-d...</td>\n",
       "      <td>https://cff2.earth.com/uploads/2025/06/1104141...</td>\n",
       "      <td>2025-06-13 17:59:46+00:00</td>\n",
       "      <td>Some cancers slip under the radar and remain u...</td>\n",
       "      <td>17</td>\n",
       "      <td>B</td>\n",
       "      <td>81</td>\n",
       "      <td>Earth.com</td>\n",
       "    </tr>\n",
       "    <tr>\n",
       "      <th>1</th>\n",
       "      <td>{'id': None, 'name': 'NBCSports.com'}</td>\n",
       "      <td>Mike Florio</td>\n",
       "      <td>There’s a simple solution to the Shemar Stewar...</td>\n",
       "      <td>To get what they want, the Bengals need to giv...</td>\n",
       "      <td>https://www.nbcsports.com/nfl/profootballtalk/...</td>\n",
       "      <td>https://nbcsports.brightspotcdn.com/dims4/defa...</td>\n",
       "      <td>2025-06-13 17:45:18+00:00</td>\n",
       "      <td>The Bengals and defensive end Shemar Stewart h...</td>\n",
       "      <td>17</td>\n",
       "      <td>B</td>\n",
       "      <td>85</td>\n",
       "      <td>NBCSports.com</td>\n",
       "    </tr>\n",
       "    <tr>\n",
       "      <th>2</th>\n",
       "      <td>{'id': 'abc-news', 'name': 'ABC News'}</td>\n",
       "      <td>ABC News</td>\n",
       "      <td>Appeals court rejects Trump's bid to challenge...</td>\n",
       "      <td></td>\n",
       "      <td>https://abcnews.go.com/US/appeals-court-hear-t...</td>\n",
       "      <td>None</td>\n",
       "      <td>2025-06-13 17:31:17+00:00</td>\n",
       "      <td></td>\n",
       "      <td>17</td>\n",
       "      <td>B</td>\n",
       "      <td>93</td>\n",
       "      <td>ABC News</td>\n",
       "    </tr>\n",
       "    <tr>\n",
       "      <th>3</th>\n",
       "      <td>{'id': None, 'name': '9to5Mac'}</td>\n",
       "      <td>Ryan Christoffel</td>\n",
       "      <td>Apple releases new iOS 26 beta 1 build to deve...</td>\n",
       "      <td>Apple has released a new build of iOS 26 beta ...</td>\n",
       "      <td>https://9to5mac.com/2025/06/13/apple-releases-...</td>\n",
       "      <td>https://i0.wp.com/9to5mac.com/wp-content/uploa...</td>\n",
       "      <td>2025-06-13 17:13:00+00:00</td>\n",
       "      <td>Apple unveiled iOS 26 earlier this week alongs...</td>\n",
       "      <td>17</td>\n",
       "      <td>A</td>\n",
       "      <td>62</td>\n",
       "      <td>9to5Mac</td>\n",
       "    </tr>\n",
       "    <tr>\n",
       "      <th>4</th>\n",
       "      <td>{'id': 'abc-news', 'name': 'ABC News'}</td>\n",
       "      <td>ABC News</td>\n",
       "      <td>Air India plane crash: Investigation underway,...</td>\n",
       "      <td></td>\n",
       "      <td>https://abcnews.go.com/International/air-india...</td>\n",
       "      <td>None</td>\n",
       "      <td>2025-06-13 16:41:15+00:00</td>\n",
       "      <td></td>\n",
       "      <td>16</td>\n",
       "      <td>A</td>\n",
       "      <td>75</td>\n",
       "      <td>ABC News</td>\n",
       "    </tr>\n",
       "  </tbody>\n",
       "</table>\n",
       "</div>"
      ],
      "text/plain": [
       "                                   source            author  \\\n",
       "0       {'id': None, 'name': 'Earth.com'}              None   \n",
       "1   {'id': None, 'name': 'NBCSports.com'}       Mike Florio   \n",
       "2  {'id': 'abc-news', 'name': 'ABC News'}          ABC News   \n",
       "3         {'id': None, 'name': '9to5Mac'}  Ryan Christoffel   \n",
       "4  {'id': 'abc-news', 'name': 'ABC News'}          ABC News   \n",
       "\n",
       "                                               title  \\\n",
       "0  Simple blood test detects cancer up to 3 years...   \n",
       "1  There’s a simple solution to the Shemar Stewar...   \n",
       "2  Appeals court rejects Trump's bid to challenge...   \n",
       "3  Apple releases new iOS 26 beta 1 build to deve...   \n",
       "4  Air India plane crash: Investigation underway,...   \n",
       "\n",
       "                                         description  \\\n",
       "0  Discover the innovation behind the cancer test...   \n",
       "1  To get what they want, the Bengals need to giv...   \n",
       "2                                                      \n",
       "3  Apple has released a new build of iOS 26 beta ...   \n",
       "4                                                      \n",
       "\n",
       "                                                 url  \\\n",
       "0  https://www.earth.com/news/simple-blood-test-d...   \n",
       "1  https://www.nbcsports.com/nfl/profootballtalk/...   \n",
       "2  https://abcnews.go.com/US/appeals-court-hear-t...   \n",
       "3  https://9to5mac.com/2025/06/13/apple-releases-...   \n",
       "4  https://abcnews.go.com/International/air-india...   \n",
       "\n",
       "                                          urlToImage  \\\n",
       "0  https://cff2.earth.com/uploads/2025/06/1104141...   \n",
       "1  https://nbcsports.brightspotcdn.com/dims4/defa...   \n",
       "2                                               None   \n",
       "3  https://i0.wp.com/9to5mac.com/wp-content/uploa...   \n",
       "4                                               None   \n",
       "\n",
       "                publishedAt  \\\n",
       "0 2025-06-13 17:59:46+00:00   \n",
       "1 2025-06-13 17:45:18+00:00   \n",
       "2 2025-06-13 17:31:17+00:00   \n",
       "3 2025-06-13 17:13:00+00:00   \n",
       "4 2025-06-13 16:41:15+00:00   \n",
       "\n",
       "                                             content  hour group  \\\n",
       "0  Some cancers slip under the radar and remain u...    17     B   \n",
       "1  The Bengals and defensive end Shemar Stewart h...    17     B   \n",
       "2                                                       17     B   \n",
       "3  Apple unveiled iOS 26 earlier this week alongs...    17     A   \n",
       "4                                                       16     A   \n",
       "\n",
       "   headline_length    source_name  \n",
       "0               81      Earth.com  \n",
       "1               85  NBCSports.com  \n",
       "2               93       ABC News  \n",
       "3               62        9to5Mac  \n",
       "4               75       ABC News  "
      ]
     },
     "execution_count": 36,
     "metadata": {},
     "output_type": "execute_result"
    }
   ],
   "source": [
    "news_data_clean.head()"
   ]
  },
  {
   "cell_type": "code",
   "execution_count": 37,
   "id": "70a824ae-0bcd-4f68-ae3b-c4388928f950",
   "metadata": {},
   "outputs": [],
   "source": [
    "news_data_clean.to_csv(\"news_data_1\", index=False) "
   ]
  },
  {
   "cell_type": "markdown",
   "id": "1f5c111b-ef29-4610-8626-1917b5500b17",
   "metadata": {},
   "source": [
    "# Summary Report on the Project\n",
    "\n",
    "https://docs.google.com/document/d/141NAVxFFqKMJru3vgBwIuuxTDkYHJKaHDFuYb2nrsyY/edit?usp=drive_link"
   ]
  },
  {
   "cell_type": "code",
   "execution_count": null,
   "id": "0637c9dc-387b-496c-ac03-df787bc65a4b",
   "metadata": {},
   "outputs": [],
   "source": []
  }
 ],
 "metadata": {
  "kernelspec": {
   "display_name": "Python [conda env:base] *",
   "language": "python",
   "name": "conda-base-py"
  },
  "language_info": {
   "codemirror_mode": {
    "name": "ipython",
    "version": 3
   },
   "file_extension": ".py",
   "mimetype": "text/x-python",
   "name": "python",
   "nbconvert_exporter": "python",
   "pygments_lexer": "ipython3",
   "version": "3.12.7"
  }
 },
 "nbformat": 4,
 "nbformat_minor": 5
}
